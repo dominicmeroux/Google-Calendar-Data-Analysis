{
 "cells": [
  {
   "cell_type": "markdown",
   "metadata": {},
   "source": [
    "# Install and Import Libraries"
   ]
  },
  {
   "cell_type": "code",
   "execution_count": 4,
   "metadata": {
    "collapsed": false
   },
   "outputs": [
    {
     "name": "stdout",
     "output_type": "stream",
     "text": [
      "Collecting pip\n",
      "  Downloading pip-9.0.1-py2.py3-none-any.whl (1.3MB)\n",
      "Installing collected packages: pip\n",
      "  Found existing installation: pip 8.1.2\n",
      "    Uninstalling pip-8.1.2:\n",
      "      Successfully uninstalled pip-8.1.2\n",
      "Successfully installed pip-9.0.1\n",
      "Collecting install\n"
     ]
    },
    {
     "name": "stderr",
     "output_type": "stream",
     "text": [
      "  Could not find a version that satisfies the requirement install (from versions: )\n",
      "No matching distribution found for install\n"
     ]
    },
    {
     "name": "stdout",
     "output_type": "stream",
     "text": [
      "Requirement already satisfied: BeautifulSoup in c:\\users\\dmeroux\\appdata\\local\\continuum\\anaconda2\\lib\\site-packages\n"
     ]
    }
   ],
   "source": [
    "!python -m pip install --upgrade pip\n",
    "!pip install install icalendar\n",
    "!pip install BeautifulSoup"
   ]
  },
  {
   "cell_type": "code",
   "execution_count": 1,
   "metadata": {
    "collapsed": false
   },
   "outputs": [],
   "source": [
    "from __future__ import print_function\n",
    "import icalendar\n",
    "from icalendar import *\n",
    "from datetime import date, datetime, timedelta\n",
    "import pickle\n",
    "import csv\n",
    "import pandas\n",
    "from pandas.io import sql\n",
    "import matplotlib.pyplot as plt\n",
    "import xlsxwriter\n",
    "import numpy as np\n",
    "import sqlite3\n",
    "import os\n",
    "import re\n",
    "import glob\n",
    "import pytz\n",
    "from StringIO import StringIO\n",
    "import calendar_parser as cp\n",
    "from urllib import urlopen \n",
    "# for calendar_parser, I downloaded the Python file created for this package\n",
    "# https://github.com/oblique63/Python-GoogleCalendarParser/blob/master/calendar_parser.py\n",
    "# and saved it in the working directory with my Python file (Jupyter Notebook file). \n",
    "# In calendar_parser.py, their function _fix_timezone is very crucial for my code to \n",
    "# display the correct local time. "
   ]
  },
  {
   "cell_type": "markdown",
   "metadata": {},
   "source": [
    "# Establish connection with SQLite database"
   ]
  },
  {
   "cell_type": "code",
   "execution_count": 12,
   "metadata": {
    "collapsed": true
   },
   "outputs": [],
   "source": [
    "conn = sqlite3.connect(\"CalEbikes.db\") # or use :memory: to put it in RAM\n",
    "c = conn.cursor()"
   ]
  },
  {
   "cell_type": "code",
   "execution_count": 19,
   "metadata": {
    "collapsed": false
   },
   "outputs": [
    {
     "name": "stdout",
     "output_type": "stream",
     "text": [
      "Table eBike exists\n"
     ]
    }
   ],
   "source": [
    "###### References and testing\n",
    "## If table needs to be removed due to error\n",
    "#c.execute(\"\"\"DROP TABLE eBike\"\"\")\n",
    "#conn.commit()\n",
    "\n",
    "## Create table\n",
    "try:\n",
    "    c.execute(\"\"\"CREATE TABLE eBike (eBikeName text, Organizer text, Created text, Start text, End text)\"\"\")\n",
    "    conn.commit()\n",
    "except:\n",
    "    print(\"Table eBike exists\")\n",
    "## Testing input values\n",
    "#c.execute(\"INSERT INTO eBike VALUES ('Honeybee', 'dmeroux@yahoo.com', '7/24/2012', '7/24/2012', '7/24/2012')\")\n",
    "#conn.commit()\n",
    "\n",
    "## Checking what's in the table\n",
    "#sql = \"SELECT * FROM eBike WHERE eBikeName=?\"\n",
    "#c.execute(sql, [(\"Honeybee\")])\n",
    "#c.fetchall()"
   ]
  },
  {
   "cell_type": "code",
   "execution_count": 21,
   "metadata": {
    "collapsed": false
   },
   "outputs": [],
   "source": [
    "# Obtain current count from each calendar to read in and add additional entries only\n",
    "c.execute(\"\"\"SELECT COUNT(*) FROM eBike WHERE eBikeName = 'Emerald'\"\"\")\n",
    "EmeraldExistingCount = c.fetchall()\n",
    "\n",
    "c.execute(\"\"\"SELECT COUNT(*) FROM eBike WHERE eBikeName = 'Honeybee'\"\"\")\n",
    "HoneybeeExistingCount = c.fetchall()\n",
    "\n",
    "c.execute(\"\"\"SELECT COUNT(*) FROM eBike WHERE eBikeName = 'Midnight'\"\"\")\n",
    "MidnightExistingCount = c.fetchall()\n",
    "\n",
    "c.execute(\"\"\"SELECT COUNT(*) FROM eBike WHERE eBikeName = 'Smoky'\"\"\")\n",
    "SmokyExistingCount = c.fetchall()\n",
    "\n",
    "c.execute(\"\"\"SELECT COUNT(*) FROM eBike WHERE eBikeName = 'Tangerine'\"\"\")\n",
    "TangerineExistingCount = c.fetchall()\n",
    "\n",
    "c.execute(\"\"\"SELECT COUNT(*) FROM eBike WHERE eBikeName = 'Violet'\"\"\")\n",
    "VioletExistingCount = c.fetchall()"
   ]
  },
  {
   "cell_type": "markdown",
   "metadata": {},
   "source": [
    "# Read in calendar data"
   ]
  },
  {
   "cell_type": "code",
   "execution_count": 22,
   "metadata": {
    "collapsed": true
   },
   "outputs": [],
   "source": [
    "# Assign a URL for each calendar\n",
    "EmeraldURL =   # Calendar 1 URL\n",
    "HoneybeeURL =  # Calendar 2 URL\n",
    "MidnightURL =  # Calendar 3 URL\n",
    "SmokyURL =     # Calendar 4 URL\n",
    "TangerineURL = # Calendar 5 URL\n",
    "VioletURL =    # Calendar 6 URL\n",
    "\n",
    "# Create list of calendar URLs\n",
    "URL_list = [EmeraldURL, HoneybeeURL, MidnightURL, SmokyURL, TangerineURL, VioletURL]"
   ]
  },
  {
   "cell_type": "code",
   "execution_count": 23,
   "metadata": {
    "collapsed": false
   },
   "outputs": [],
   "source": [
    "# Declare lists\n",
    "eBikeName = []\n",
    "Organizer = []\n",
    "DTcreated = []\n",
    "DTstart = []\n",
    "DTend = []\n",
    "Counter = 0\n",
    "\n",
    "# For each calendar URL\n",
    "for i in URL_list:\n",
    "    Counter = 0\n",
    "    b = urlopen(i)\n",
    "    cal = Calendar.from_ical(b.read())\n",
    "    #timezones = cal.walk('VTIMEZONE')\n",
    "    #print (timezones)\n",
    "    #timezones2 = cal.walk('X-WR-TIMEZONE')\n",
    "    #print(timezones2)\n",
    "    \n",
    "    # Obtain length of the calendar\n",
    "    if (i == EmeraldURL):\n",
    "        EmeraldLen = len(cal.walk())\n",
    "    elif (i == HoneybeeURL):\n",
    "        HoneybeeLen = len(cal.walk())\n",
    "    elif (i == MidnightURL):\n",
    "        MidnightLen = len(cal.walk())\n",
    "    elif (i == SmokyURL):\n",
    "        SmokyLen = len(cal.walk())\n",
    "    elif (i == TangerineURL):\n",
    "        TangerineLen = len(cal.walk())\n",
    "    elif (i == VioletURL):\n",
    "        VioletLen = len(cal.walk())\n",
    "    \n",
    "    # Read in only new data not previously recorded; read organizer email, reservation creation, start, and end times\n",
    "    for k in cal.walk():\n",
    "        if k.name == \"VCALENDAR\":\n",
    "            timezone = k.get(\"X-WR-TIMEZONE\")\n",
    "        if k.name == \"VEVENT\":\n",
    "            Counter += 1\n",
    "            if (i == EmeraldURL):\n",
    "                if EmeraldLen - Counter > EmeraldExistingCount[0][0]:\n",
    "                    eBikeName.append('Emerald')\n",
    "                    Organizer.append( re.sub(r'mailto:', \"\", str(k.get('ORGANIZER') ) ) )\n",
    "                    DTcreated.append( cp._fix_timezone( k.decoded('CREATED'), pytz.timezone(timezone) ) )\n",
    "                    DTstart.append( cp._fix_timezone( k.decoded('DTSTART'), pytz.timezone(timezone) ) )\n",
    "                    DTend.append( cp._fix_timezone( k.decoded('DTEND'), pytz.timezone(timezone) ) )\n",
    "            elif (i == HoneybeeURL):\n",
    "                if HoneybeeLen - Counter > HoneybeeExistingCount[0][0]:\n",
    "                    eBikeName.append('Honeybee')\n",
    "                    Organizer.append( re.sub(r'mailto:', \"\", str(k.get('ORGANIZER') ) ) )\n",
    "                    DTcreated.append( cp._fix_timezone( k.decoded('CREATED'), pytz.timezone(timezone) ) )\n",
    "                    DTstart.append( cp._fix_timezone( k.decoded('DTSTART'), pytz.timezone(timezone) ) )\n",
    "                    DTend.append( cp._fix_timezone( k.decoded('DTEND'), pytz.timezone(timezone) ) )\n",
    "            elif (i == MidnightURL):\n",
    "                if MidnightLen - Counter > MidnightExistingCount[0][0]:\n",
    "                    eBikeName.append('Midnight')\n",
    "                    Organizer.append( re.sub(r'mailto:', \"\", str(k.get('ORGANIZER') ) ) )\n",
    "                    DTcreated.append( cp._fix_timezone( k.decoded('CREATED'), pytz.timezone(timezone) ) )\n",
    "                    DTstart.append( cp._fix_timezone( k.decoded('DTSTART'), pytz.timezone(timezone) ) )\n",
    "                    DTend.append( cp._fix_timezone( k.decoded('DTEND'), pytz.timezone(timezone) ) )\n",
    "            elif (i == SmokyURL):\n",
    "                if SmokyLen - Counter > SmokyExistingCount[0][0]:\n",
    "                    eBikeName.append('Smoky')\n",
    "                    Organizer.append( re.sub(r'mailto:', \"\", str(k.get('ORGANIZER') ) ) )\n",
    "                    DTcreated.append( cp._fix_timezone( k.decoded('CREATED'), pytz.timezone(timezone) ) )\n",
    "                    DTstart.append( cp._fix_timezone( k.decoded('DTSTART'), pytz.timezone(timezone) ) )\n",
    "                    DTend.append( cp._fix_timezone( k.decoded('DTEND'), pytz.timezone(timezone) ) )\n",
    "            elif (i == TangerineURL):\n",
    "                if TangerineLen - Counter > TangerineExistingCount[0][0]:\n",
    "                    eBikeName.append('Tangerine')\n",
    "                    Organizer.append( re.sub(r'mailto:', \"\", str(k.get('ORGANIZER') ) ) )\n",
    "                    DTcreated.append( cp._fix_timezone( k.decoded('CREATED'), pytz.timezone(timezone) ) )\n",
    "                    DTstart.append( cp._fix_timezone( k.decoded('DTSTART'), pytz.timezone(timezone) ) )\n",
    "                    DTend.append( cp._fix_timezone( k.decoded('DTEND'), pytz.timezone(timezone) ) )\n",
    "            elif (i == VioletURL):\n",
    "                if VioletLen - Counter > VioletExistingCount[0][0]:\n",
    "                    eBikeName.append('Violet')\n",
    "                    Organizer.append( re.sub(r'mailto:', \"\", str(k.get('ORGANIZER') ) ) )\n",
    "                    DTcreated.append( cp._fix_timezone( k.decoded('CREATED'), pytz.timezone(timezone) ) )\n",
    "                    DTstart.append( cp._fix_timezone( k.decoded('DTSTART'), pytz.timezone(timezone) ) )\n",
    "                    DTend.append( cp._fix_timezone( k.decoded('DTEND'), pytz.timezone(timezone) ) )\n",
    "b.close()"
   ]
  },
  {
   "cell_type": "code",
   "execution_count": 25,
   "metadata": {
    "collapsed": false
   },
   "outputs": [],
   "source": [
    "# Now that calendar data is fully read in, create a list with data in a format for \n",
    "# entering into the SQLite database\n",
    "eBikeData = []\n",
    "for i in range(len(DTcreated)):\n",
    "    if (Organizer[i] != 'ADMIN_ADDRESS@EMAIL.edu'): # INSERT ANY EMAIL ADDRESS YOU DON'T WANT CONSIDERED FOR RESERVATION DATA\n",
    "        eBikeData.append((eBikeName[i], Organizer[i], DTcreated[i], DTstart[i], DTend[i]))"
   ]
  },
  {
   "cell_type": "markdown",
   "metadata": {},
   "source": [
    "# SQLite and Excel connection for desired data"
   ]
  },
  {
   "cell_type": "code",
   "execution_count": 26,
   "metadata": {
    "collapsed": false
   },
   "outputs": [],
   "source": [
    "# Insert calendar data into SQLite table eBike\n",
    "c.executemany(\"INSERT INTO eBike (eBikeName, Organizer, Created, Start, End) VALUES (?, ?, ?, ?, ?)\", eBikeData)\n",
    "conn.commit()"
   ]
  },
  {
   "cell_type": "markdown",
   "metadata": {},
   "source": [
    "### Emails for Weekly E-Bike Use Survey"
   ]
  },
  {
   "cell_type": "code",
   "execution_count": 27,
   "metadata": {
    "collapsed": false
   },
   "outputs": [],
   "source": [
    "# Find emails associated with reservations created at latest 7 days ago\n",
    "c.execute(\"SELECT DISTINCT Organizer FROM eBike WHERE julianday('now') - julianday(Start) <= 7 AND julianday('now') - julianday(Start) >= 0\")\n",
    "WeeklyEmail = c.fetchall()\n",
    "Email = []\n",
    "for i in range(len(WeeklyEmail)):\n",
    "    Email.append(WeeklyEmail[i][0])\n",
    "    if(Email[i] != 'None'):\n",
    "        print(Email[i])\n"
   ]
  },
  {
   "cell_type": "code",
   "execution_count": 28,
   "metadata": {
    "collapsed": false
   },
   "outputs": [
    {
     "data": {
      "text/plain": [
       "0"
      ]
     },
     "execution_count": 28,
     "metadata": {},
     "output_type": "execute_result"
    }
   ],
   "source": [
    "# https://xlsxwriter.readthedocs.org\n",
    "# Workbook Document Name\n",
    "workbook = xlsxwriter.Workbook('E-BikeUpdate' + datetime.strftime(datetime.now(), \"%Y-%m-%d\") + '.xlsx')\n",
    "\n",
    "# Define 'bold' format\n",
    "bold = workbook.add_format({'bold': True})\n",
    "format1 = workbook.add_format({'bold': 1,\n",
    "                               'bg_color': '#3CDAE5',\n",
    "                               'font_color': '#092A51'})\n",
    "format2 = workbook.add_format({'bold': 1,\n",
    "                               'bg_color': '#DA7BD0',\n",
    "                               'font_color': '#A50202'})\n",
    "\n",
    "# Add Intro Sheet\n",
    "worksheet = workbook.add_worksheet('INTRO')\n",
    "worksheet.write('A1', 'Sheet', bold)\n",
    "worksheet.write('A2', 'Ebike_Rides_by_User')\n",
    "worksheet.write('A3', 'Trips_by_Res_Time')\n",
    "worksheet.write('A4', 'Trips_by_Weekday')\n",
    "worksheet.write('A5', 'Utilization')\n",
    "worksheet.write('A6', 'Aggregate_Advance_Reservation')\n",
    "worksheet.write('A7', 'Time_Series_Advance_Reservation')\n",
    "\n",
    "worksheet.write('B1', 'Description', bold)\n",
    "worksheet.write('B2', 'Total E-Bike Rides by User Email')\n",
    "worksheet.write('B3', 'Total E-Bike Rides by Reservation Hour')\n",
    "worksheet.write('B4', 'Total E-Bike Rides by Weekday')\n",
    "worksheet.write('B5', 'Average and Maximum Percent and Hours Utilization')\n",
    "worksheet.write('B6', 'Number of Days E-Bikes Were Reserved in Advance, by Count of Reservations')\n",
    "worksheet.write('B7', 'Number of Days E-Bikes Were Reserved in Advance, by Reservation Start Datetime')"
   ]
  },
  {
   "cell_type": "markdown",
   "metadata": {},
   "source": [
    "### Total e-Bike Rides by User"
   ]
  },
  {
   "cell_type": "code",
   "execution_count": 29,
   "metadata": {
    "collapsed": false
   },
   "outputs": [],
   "source": [
    "c.execute(\"SELECT Organizer, COUNT(*) AS Total_Rides FROM eBike GROUP BY Organizer ORDER BY Total_Rides DESC;\")\n",
    "TotalRides_by_User = c.fetchall()"
   ]
  },
  {
   "cell_type": "code",
   "execution_count": 31,
   "metadata": {
    "collapsed": false
   },
   "outputs": [],
   "source": [
    "# Worksheet Name\n",
    "worksheet1 = workbook.add_worksheet('Ebike_Rides_by_User')\n",
    "\n",
    "# Column Names\n",
    "worksheet1.write('A1', 'User', bold)\n",
    "worksheet1.write('B1', 'Total Rides', bold)\n",
    "\n",
    "# Declare Starting Point for row, col\n",
    "row = 1\n",
    "col = 0\n",
    "\n",
    "# Iterate over the data and write it out row by row\n",
    "for UserEmail, UserRideCount in (TotalRides_by_User):\n",
    "    worksheet1.write(row, col,     UserEmail)\n",
    "    worksheet1.write(row, col + 1, UserRideCount)\n",
    "    row += 1\n",
    "\n",
    "# Conditional Formatting: E-bike Users with 20+ Rides\n",
    "worksheet1.conditional_format('B1:B9999', {'type':     'cell',\n",
    "                                        'criteria': '>=',\n",
    "                                        'value':    20,\n",
    "                                        'format':   format1})"
   ]
  },
  {
   "cell_type": "markdown",
   "metadata": {},
   "source": [
    "### Total Trips by Reservation Time"
   ]
  },
  {
   "cell_type": "code",
   "execution_count": 32,
   "metadata": {
    "collapsed": false
   },
   "outputs": [],
   "source": [
    "c.execute(\"SELECT strftime('%H', Start) AS Hour_24, strftime('%M', Start) AS Reservation_Time, COUNT(*) AS Total_Rides FROM eBike GROUP BY Reservation_Time, Hour_24 ORDER BY Hour_24 ASC\")\n",
    "Trips_by_Time = c.fetchall()"
   ]
  },
  {
   "cell_type": "code",
   "execution_count": 34,
   "metadata": {
    "collapsed": false
   },
   "outputs": [],
   "source": [
    "# Worksheet Name\n",
    "worksheet2 = workbook.add_worksheet('Trips_by_Res_Time')  # Data.\n",
    "\n",
    "# Column Names\n",
    "#worksheet2.write('A1', 'Hour', bold)\n",
    "worksheet2.write('A1', 'Time', bold)\n",
    "worksheet2.write('B1', 'Total Rides', bold)\n",
    "\n",
    "# Declare Starting Point for row, col\n",
    "row = 1\n",
    "col = 0\n",
    "\n",
    "# Iterate over the data and write it out row by row\n",
    "for Hour_24, Reservation_Time, Total_Rides in (Trips_by_Time):\n",
    "    worksheet2.write(row, col,     str(Hour_24)+':'+str(Reservation_Time))\n",
    "    #worksheet2.write(row, col,     Reservation_Time)\n",
    "    worksheet2.write(row, col + 1, Total_Rides)\n",
    "    row += 1\n",
    "    \n",
    "# Add Chart\n",
    "chart = workbook.add_chart({'type': 'line'})\n",
    "\n",
    "# Add Data to Chart\n",
    "chart.add_series({\n",
    "    'categories': '=Trips_by_Res_Time!$A$2:$A$16',\n",
    "    'values':     '=Trips_by_Res_Time!$B$2:$B$16',\n",
    "    'fill':       {'color': '#791484'},\n",
    "    'border':     {'color': '#52B7CB'}\n",
    "})\n",
    "\n",
    "# Format Chart\n",
    "chart.set_title({\n",
    "    'name': 'Total Rides by Reservation Time',\n",
    "    'name_font': {\n",
    "        'name': 'Calibri',\n",
    "        'color': '#52B7CB',\n",
    "    },\n",
    "})\n",
    "\n",
    "chart.set_x_axis({\n",
    "    'name': 'Reservation Time',\n",
    "    'empty_cells': 'gaps',\n",
    "    'name_font': {\n",
    "        'name': 'Calibri',\n",
    "        'color': '#52B7CB'\n",
    "    },\n",
    "    'num_font': {\n",
    "        'name': 'Arial',\n",
    "        'color': '#52B7CB',\n",
    "    },\n",
    "})\n",
    "\n",
    "chart.set_y_axis({\n",
    "    'name': 'Total Rides',\n",
    "    'empty_cells': 'gaps',\n",
    "    'name_font': {\n",
    "        'name': 'Calibri',\n",
    "        'color': '#52B7CB'\n",
    "    },\n",
    "    'num_font': {\n",
    "        'italic': True,\n",
    "        'color': '#52B7CB',\n",
    "    },\n",
    "})\n",
    "\n",
    "# Remove Legend\n",
    "chart.set_legend({'position': 'none'})\n",
    "\n",
    "# Insert Chart\n",
    "worksheet2.insert_chart('E1', chart)\n",
    "\n",
    "# GO TO END OF DATA"
   ]
  },
  {
   "cell_type": "markdown",
   "metadata": {},
   "source": [
    "### Total Trips by Weekday"
   ]
  },
  {
   "cell_type": "code",
   "execution_count": 35,
   "metadata": {
    "collapsed": false
   },
   "outputs": [],
   "source": [
    "c.execute(\"SELECT case strftime('%w', Start) when '0' then 'Sunday' when '1' then 'Monday' when '2' then 'Tuesday' when '3' then 'Wednesday' when '4' then 'Thursday' when '5' then 'Friday' when '6' then 'Saturday' else '' end AS Weekday, COUNT(*) AS Total_Rides FROM eBike GROUP BY Weekday ORDER BY Weekday\")\n",
    "Trips_by_Weekday = c.fetchall()"
   ]
  },
  {
   "cell_type": "code",
   "execution_count": 37,
   "metadata": {
    "collapsed": false
   },
   "outputs": [],
   "source": [
    "# Worksheet Name\n",
    "worksheet3 = workbook.add_worksheet('Trips_by_Weekday')\n",
    "\n",
    "# Column Names\n",
    "worksheet3.write('A1', 'Weekday', bold)\n",
    "worksheet3.write('B1', 'Total Rides', bold)\n",
    "\n",
    "# Declare Starting Point for row, col\n",
    "row = 1\n",
    "col = 0\n",
    "\n",
    "# Iterate over the data and write it out row by row\n",
    "for Weekday, Total_Rides_by_Weekday in (Trips_by_Weekday):\n",
    "    worksheet3.write(row, col,     Weekday)\n",
    "    worksheet3.write(row, col + 1, Total_Rides_by_Weekday)\n",
    "    row += 1\n",
    "    \n",
    "# Add Chart\n",
    "chart = workbook.add_chart({'type': 'line'})\n",
    "\n",
    "# Add Data to Chart\n",
    "chart.add_series({\n",
    "    'categories': '=Trips_by_Weekday!$A$2:$A$8',\n",
    "    'values':     '=Trips_by_Weekday!$B$2:$B$8',\n",
    "    'fill':       {'color': '#791484'},\n",
    "    'border':     {'color': '#52B7CB'}\n",
    "})\n",
    "\n",
    "# Format Chart\n",
    "chart.set_title({\n",
    "    'name': 'Total Rides by Weekday',\n",
    "    'name_font': {\n",
    "        'name': 'Calibri',\n",
    "        'color': '#52B7CB',\n",
    "    },\n",
    "})\n",
    "\n",
    "chart.set_x_axis({\n",
    "    'name': 'Weekday',\n",
    "    'name_font': {\n",
    "        'name': 'Calibri',\n",
    "        'color': '#52B7CB'\n",
    "    },\n",
    "    'num_font': {\n",
    "        'name': 'Arial',\n",
    "        'color': '#52B7CB',\n",
    "    },\n",
    "})\n",
    "\n",
    "chart.set_y_axis({\n",
    "    'name': 'Total Rides',\n",
    "    'name_font': {\n",
    "        'name': 'Calibri',\n",
    "        'color': '#52B7CB'\n",
    "    },\n",
    "    'num_font': {\n",
    "        'italic': True,\n",
    "        'color': '#52B7CB',\n",
    "    },\n",
    "})\n",
    "\n",
    "# Remove Legend\n",
    "chart.set_legend({'position': 'none'})\n",
    "\n",
    "# Insert Chart\n",
    "worksheet3.insert_chart('E1', chart)"
   ]
  },
  {
   "cell_type": "markdown",
   "metadata": {},
   "source": [
    "### Average and Maximum Hours and Percent Utilization by Weekday"
   ]
  },
  {
   "cell_type": "code",
   "execution_count": 38,
   "metadata": {
    "collapsed": false
   },
   "outputs": [],
   "source": [
    "c.execute(\"SELECT case strftime('%w', Start) when '0' then 'Sunday' when '1' then 'Monday' when '2' then 'Tuesday' when '3' then 'Wednesday' when '4' then 'Thursday' when '5' then 'Friday' when '6' then 'Saturday' else '' end AS Weekday, MAX((julianday(End) - julianday(Start))*24) AS Max_Hours, MAX(julianday(End) - julianday(Start))*100 AS Max_PCT_Utilization, AVG((julianday(End) - julianday(Start))*24) AS Avg_Hours, AVG((julianday(End) - julianday(Start))*100) AS Avg_PCT_Utilization FROM eBike GROUP BY Weekday ORDER BY Weekday\")\n",
    "Avg_Max_Hours_PCTutilization_by_Weekday = c.fetchall()"
   ]
  },
  {
   "cell_type": "code",
   "execution_count": 40,
   "metadata": {
    "collapsed": false
   },
   "outputs": [],
   "source": [
    "# Worksheet Name\n",
    "worksheet4 = workbook.add_worksheet('Utilization')\n",
    "\n",
    "# Column Names\n",
    "worksheet4.write('A1', 'Weekday', bold)\n",
    "worksheet4.write('B1', 'Maximum Reservation Duration (hrs)', bold)\n",
    "worksheet4.write('C1', 'Maximum Percentage Utilization', bold)\n",
    "worksheet4.write('D1', 'Average Reservation Duration (hrs)', bold)\n",
    "worksheet4.write('E1', 'Average Percent Utilization', bold)\n",
    "\n",
    "# Declare Starting Point for row, col\n",
    "row = 1\n",
    "col = 0\n",
    "\n",
    "# Iterate over the data and write it out row by row\n",
    "for Weekday_AMH, Max_Hours, Max_PCT_Utilization, Avg_Hours, Avg_PCT_Utilization in (Avg_Max_Hours_PCTutilization_by_Weekday):\n",
    "    worksheet4.write(row, col,     Weekday_AMH)\n",
    "    worksheet4.write(row, col + 1, Max_Hours)\n",
    "    worksheet4.write(row, col + 2, Max_PCT_Utilization)\n",
    "    worksheet4.write(row, col + 3, Avg_Hours)\n",
    "    worksheet4.write(row, col + 4, Avg_PCT_Utilization)\n",
    "    row += 1\n",
    "    \n",
    "# Conditional Formatting: Percent Utilization Greater Than 50\n",
    "worksheet4.conditional_format('E2:E8', {'type':     'cell',\n",
    "                                        'criteria': '>=',\n",
    "                                        'value':    30,\n",
    "                                        'format':   format1})"
   ]
  },
  {
   "cell_type": "markdown",
   "metadata": {},
   "source": [
    "### How far in Advance Reservations are Created"
   ]
  },
  {
   "cell_type": "code",
   "execution_count": 41,
   "metadata": {
    "collapsed": false
   },
   "outputs": [],
   "source": [
    "# How far in advance reservations are created\n",
    "c.execute(\"SELECT julianday(Start) - julianday(Created) AS Days_Advance_Reservation, COUNT(*) AS Number_Reserved_Trips FROM eBike WHERE julianday(Start) - julianday(Created) >= 0 GROUP BY Days_Advance_Reservation ORDER BY Days_Advance_Reservation DESC\")\n",
    "Advance_Reservation = c.fetchall()"
   ]
  },
  {
   "cell_type": "code",
   "execution_count": 43,
   "metadata": {
    "collapsed": false
   },
   "outputs": [],
   "source": [
    "# Worksheet Name\n",
    "worksheet5 = workbook.add_worksheet('Aggregate_Advance_Reservation')\n",
    "\n",
    "# Column Names\n",
    "worksheet5.write('A1', 'Days E-Bike was Reserved Ahead of Time', bold)\n",
    "worksheet5.write('B1', 'Total Reservations', bold)\n",
    "\n",
    "# Declare Starting Point for row, col\n",
    "row = 1\n",
    "col = 0\n",
    "\n",
    "# Iterate over the data and write it out row by row\n",
    "for Days_Advance_Reservation, Number_Reserved_Trips in (Advance_Reservation):\n",
    "    worksheet5.write(row, col,     Days_Advance_Reservation)\n",
    "    worksheet5.write(row, col + 1, Number_Reserved_Trips)\n",
    "    row += 1\n",
    "    \n",
    "worksheet5.conditional_format('B2:B9999', {'type':     'cell',\n",
    "                                        'criteria': '>=',\n",
    "                                        'value':    5,\n",
    "                                        'format':   format2})"
   ]
  },
  {
   "cell_type": "code",
   "execution_count": 44,
   "metadata": {
    "collapsed": true
   },
   "outputs": [],
   "source": [
    "# Time series of how far in advance reservations are created\n",
    "c.execute(\"SELECT Start, julianday(Start) - julianday(Created) AS Days_Advance_Reservation FROM eBike WHERE julianday(Start) - julianday(Created) > 0 ORDER BY Start ASC\")\n",
    "Time_Series_Advance_Reservation = c.fetchall()"
   ]
  },
  {
   "cell_type": "code",
   "execution_count": 45,
   "metadata": {
    "collapsed": false
   },
   "outputs": [],
   "source": [
    "Starts = []\n",
    "for i in range(0, len(Time_Series_Advance_Reservation)): \n",
    "    Starts.append(str(Time_Series_Advance_Reservation[i][0]))"
   ]
  },
  {
   "cell_type": "code",
   "execution_count": 47,
   "metadata": {
    "collapsed": false
   },
   "outputs": [],
   "source": [
    "# Worksheet Name\n",
    "worksheet6 = workbook.add_worksheet('Time_Series_Advance_Reservation')\n",
    "\n",
    "# Column Names\n",
    "worksheet6.write('A1', 'Reservation Start Date', bold)\n",
    "worksheet6.write('B1', 'Days E-Bike was Reserved Ahead of Time', bold)\n",
    "\n",
    "# Declare Starting Point for row, col\n",
    "row = 1\n",
    "col = 0\n",
    "\n",
    "# Iterate over the data and write it out row by row\n",
    "for StartVal in Starts:\n",
    "    worksheet6.write(row, col, StartVal)\n",
    "    row += 1\n",
    "\n",
    "row = 1\n",
    "for Start, Days_Advance_Reservation in (Time_Series_Advance_Reservation):\n",
    "    worksheet6.write(row, col + 1, Days_Advance_Reservation)\n",
    "    row += 1\n",
    "    \n",
    "# Add Chart\n",
    "chart = workbook.add_chart({'type': 'line'})\n",
    "\n",
    "worksheet6.conditional_format('B2:B9999', {'type':     'cell',\n",
    "                                        'criteria': '>=',\n",
    "                                        'value':    5,\n",
    "                                        'format':   format2})"
   ]
  },
  {
   "cell_type": "code",
   "execution_count": 48,
   "metadata": {
    "collapsed": false
   },
   "outputs": [],
   "source": [
    "workbook.close()"
   ]
  },
  {
   "cell_type": "code",
   "execution_count": 49,
   "metadata": {
    "collapsed": false
   },
   "outputs": [],
   "source": [
    "c.close()"
   ]
  },
  {
   "cell_type": "code",
   "execution_count": 50,
   "metadata": {
    "collapsed": false
   },
   "outputs": [],
   "source": [
    "conn.close()"
   ]
  },
  {
   "cell_type": "code",
   "execution_count": null,
   "metadata": {
    "collapsed": true
   },
   "outputs": [],
   "source": []
  }
 ],
 "metadata": {
  "anaconda-cloud": {},
  "kernelspec": {
   "display_name": "Python 2",
   "language": "python",
   "name": "python2"
  },
  "language_info": {
   "codemirror_mode": {
    "name": "ipython",
    "version": 2
   },
   "file_extension": ".py",
   "mimetype": "text/x-python",
   "name": "python",
   "nbconvert_exporter": "python",
   "pygments_lexer": "ipython2",
   "version": "2.7.12"
  }
 },
 "nbformat": 4,
 "nbformat_minor": 0
}
